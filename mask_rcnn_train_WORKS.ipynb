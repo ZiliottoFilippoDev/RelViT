{
  "nbformat": 4,
  "nbformat_minor": 0,
  "metadata": {
    "colab": {
      "provenance": []
    },
    "kernelspec": {
      "name": "python3",
      "display_name": "Python 3"
    },
    "language_info": {
      "name": "python"
    },
    "widgets": {
      "application/vnd.jupyter.widget-state+json": {
        "0160b9257aa84248af5cfd4181b797be": {
          "model_module": "@jupyter-widgets/controls",
          "model_name": "HBoxModel",
          "model_module_version": "1.5.0",
          "state": {
            "_dom_classes": [],
            "_model_module": "@jupyter-widgets/controls",
            "_model_module_version": "1.5.0",
            "_model_name": "HBoxModel",
            "_view_count": null,
            "_view_module": "@jupyter-widgets/controls",
            "_view_module_version": "1.5.0",
            "_view_name": "HBoxView",
            "box_style": "",
            "children": [
              "IPY_MODEL_8c703cf57625427ab19e2ac768f2a618",
              "IPY_MODEL_8585a6f0f57b401688f810b13e2a433a",
              "IPY_MODEL_b9394b5aabad4b15ae65a726698c8d9f"
            ],
            "layout": "IPY_MODEL_feae2577fb4f4a0fb7830000bb56374d"
          }
        },
        "8c703cf57625427ab19e2ac768f2a618": {
          "model_module": "@jupyter-widgets/controls",
          "model_name": "HTMLModel",
          "model_module_version": "1.5.0",
          "state": {
            "_dom_classes": [],
            "_model_module": "@jupyter-widgets/controls",
            "_model_module_version": "1.5.0",
            "_model_name": "HTMLModel",
            "_view_count": null,
            "_view_module": "@jupyter-widgets/controls",
            "_view_module_version": "1.5.0",
            "_view_name": "HTMLView",
            "description": "",
            "description_tooltip": null,
            "layout": "IPY_MODEL_c4c4475357d94c22bc0200c0a6499992",
            "placeholder": "​",
            "style": "IPY_MODEL_2e463b89f9aa4a1b9a87d76dd9125ef9",
            "value": "Sanity Checking DataLoader 0: 100%"
          }
        },
        "8585a6f0f57b401688f810b13e2a433a": {
          "model_module": "@jupyter-widgets/controls",
          "model_name": "FloatProgressModel",
          "model_module_version": "1.5.0",
          "state": {
            "_dom_classes": [],
            "_model_module": "@jupyter-widgets/controls",
            "_model_module_version": "1.5.0",
            "_model_name": "FloatProgressModel",
            "_view_count": null,
            "_view_module": "@jupyter-widgets/controls",
            "_view_module_version": "1.5.0",
            "_view_name": "ProgressView",
            "bar_style": "",
            "description": "",
            "description_tooltip": null,
            "layout": "IPY_MODEL_d6467a1df1754232aab34c4df6c2444f",
            "max": 2,
            "min": 0,
            "orientation": "horizontal",
            "style": "IPY_MODEL_838b86a8f07a4bbbbe6f4a38fa751af6",
            "value": 2
          }
        },
        "b9394b5aabad4b15ae65a726698c8d9f": {
          "model_module": "@jupyter-widgets/controls",
          "model_name": "HTMLModel",
          "model_module_version": "1.5.0",
          "state": {
            "_dom_classes": [],
            "_model_module": "@jupyter-widgets/controls",
            "_model_module_version": "1.5.0",
            "_model_name": "HTMLModel",
            "_view_count": null,
            "_view_module": "@jupyter-widgets/controls",
            "_view_module_version": "1.5.0",
            "_view_name": "HTMLView",
            "description": "",
            "description_tooltip": null,
            "layout": "IPY_MODEL_9fa84c46696f41deadd5dad342914336",
            "placeholder": "​",
            "style": "IPY_MODEL_2a65876766ee4c4cad58e4f0f7ebd939",
            "value": " 2/2 [00:02&lt;00:00,  1.44s/it]"
          }
        },
        "feae2577fb4f4a0fb7830000bb56374d": {
          "model_module": "@jupyter-widgets/base",
          "model_name": "LayoutModel",
          "model_module_version": "1.2.0",
          "state": {
            "_model_module": "@jupyter-widgets/base",
            "_model_module_version": "1.2.0",
            "_model_name": "LayoutModel",
            "_view_count": null,
            "_view_module": "@jupyter-widgets/base",
            "_view_module_version": "1.2.0",
            "_view_name": "LayoutView",
            "align_content": null,
            "align_items": null,
            "align_self": null,
            "border": null,
            "bottom": null,
            "display": "inline-flex",
            "flex": null,
            "flex_flow": "row wrap",
            "grid_area": null,
            "grid_auto_columns": null,
            "grid_auto_flow": null,
            "grid_auto_rows": null,
            "grid_column": null,
            "grid_gap": null,
            "grid_row": null,
            "grid_template_areas": null,
            "grid_template_columns": null,
            "grid_template_rows": null,
            "height": null,
            "justify_content": null,
            "justify_items": null,
            "left": null,
            "margin": null,
            "max_height": null,
            "max_width": null,
            "min_height": null,
            "min_width": null,
            "object_fit": null,
            "object_position": null,
            "order": null,
            "overflow": null,
            "overflow_x": null,
            "overflow_y": null,
            "padding": null,
            "right": null,
            "top": null,
            "visibility": "hidden",
            "width": "100%"
          }
        },
        "c4c4475357d94c22bc0200c0a6499992": {
          "model_module": "@jupyter-widgets/base",
          "model_name": "LayoutModel",
          "model_module_version": "1.2.0",
          "state": {
            "_model_module": "@jupyter-widgets/base",
            "_model_module_version": "1.2.0",
            "_model_name": "LayoutModel",
            "_view_count": null,
            "_view_module": "@jupyter-widgets/base",
            "_view_module_version": "1.2.0",
            "_view_name": "LayoutView",
            "align_content": null,
            "align_items": null,
            "align_self": null,
            "border": null,
            "bottom": null,
            "display": null,
            "flex": null,
            "flex_flow": null,
            "grid_area": null,
            "grid_auto_columns": null,
            "grid_auto_flow": null,
            "grid_auto_rows": null,
            "grid_column": null,
            "grid_gap": null,
            "grid_row": null,
            "grid_template_areas": null,
            "grid_template_columns": null,
            "grid_template_rows": null,
            "height": null,
            "justify_content": null,
            "justify_items": null,
            "left": null,
            "margin": null,
            "max_height": null,
            "max_width": null,
            "min_height": null,
            "min_width": null,
            "object_fit": null,
            "object_position": null,
            "order": null,
            "overflow": null,
            "overflow_x": null,
            "overflow_y": null,
            "padding": null,
            "right": null,
            "top": null,
            "visibility": null,
            "width": null
          }
        },
        "2e463b89f9aa4a1b9a87d76dd9125ef9": {
          "model_module": "@jupyter-widgets/controls",
          "model_name": "DescriptionStyleModel",
          "model_module_version": "1.5.0",
          "state": {
            "_model_module": "@jupyter-widgets/controls",
            "_model_module_version": "1.5.0",
            "_model_name": "DescriptionStyleModel",
            "_view_count": null,
            "_view_module": "@jupyter-widgets/base",
            "_view_module_version": "1.2.0",
            "_view_name": "StyleView",
            "description_width": ""
          }
        },
        "d6467a1df1754232aab34c4df6c2444f": {
          "model_module": "@jupyter-widgets/base",
          "model_name": "LayoutModel",
          "model_module_version": "1.2.0",
          "state": {
            "_model_module": "@jupyter-widgets/base",
            "_model_module_version": "1.2.0",
            "_model_name": "LayoutModel",
            "_view_count": null,
            "_view_module": "@jupyter-widgets/base",
            "_view_module_version": "1.2.0",
            "_view_name": "LayoutView",
            "align_content": null,
            "align_items": null,
            "align_self": null,
            "border": null,
            "bottom": null,
            "display": null,
            "flex": "2",
            "flex_flow": null,
            "grid_area": null,
            "grid_auto_columns": null,
            "grid_auto_flow": null,
            "grid_auto_rows": null,
            "grid_column": null,
            "grid_gap": null,
            "grid_row": null,
            "grid_template_areas": null,
            "grid_template_columns": null,
            "grid_template_rows": null,
            "height": null,
            "justify_content": null,
            "justify_items": null,
            "left": null,
            "margin": null,
            "max_height": null,
            "max_width": null,
            "min_height": null,
            "min_width": null,
            "object_fit": null,
            "object_position": null,
            "order": null,
            "overflow": null,
            "overflow_x": null,
            "overflow_y": null,
            "padding": null,
            "right": null,
            "top": null,
            "visibility": null,
            "width": null
          }
        },
        "838b86a8f07a4bbbbe6f4a38fa751af6": {
          "model_module": "@jupyter-widgets/controls",
          "model_name": "ProgressStyleModel",
          "model_module_version": "1.5.0",
          "state": {
            "_model_module": "@jupyter-widgets/controls",
            "_model_module_version": "1.5.0",
            "_model_name": "ProgressStyleModel",
            "_view_count": null,
            "_view_module": "@jupyter-widgets/base",
            "_view_module_version": "1.2.0",
            "_view_name": "StyleView",
            "bar_color": null,
            "description_width": ""
          }
        },
        "9fa84c46696f41deadd5dad342914336": {
          "model_module": "@jupyter-widgets/base",
          "model_name": "LayoutModel",
          "model_module_version": "1.2.0",
          "state": {
            "_model_module": "@jupyter-widgets/base",
            "_model_module_version": "1.2.0",
            "_model_name": "LayoutModel",
            "_view_count": null,
            "_view_module": "@jupyter-widgets/base",
            "_view_module_version": "1.2.0",
            "_view_name": "LayoutView",
            "align_content": null,
            "align_items": null,
            "align_self": null,
            "border": null,
            "bottom": null,
            "display": null,
            "flex": null,
            "flex_flow": null,
            "grid_area": null,
            "grid_auto_columns": null,
            "grid_auto_flow": null,
            "grid_auto_rows": null,
            "grid_column": null,
            "grid_gap": null,
            "grid_row": null,
            "grid_template_areas": null,
            "grid_template_columns": null,
            "grid_template_rows": null,
            "height": null,
            "justify_content": null,
            "justify_items": null,
            "left": null,
            "margin": null,
            "max_height": null,
            "max_width": null,
            "min_height": null,
            "min_width": null,
            "object_fit": null,
            "object_position": null,
            "order": null,
            "overflow": null,
            "overflow_x": null,
            "overflow_y": null,
            "padding": null,
            "right": null,
            "top": null,
            "visibility": null,
            "width": null
          }
        },
        "2a65876766ee4c4cad58e4f0f7ebd939": {
          "model_module": "@jupyter-widgets/controls",
          "model_name": "DescriptionStyleModel",
          "model_module_version": "1.5.0",
          "state": {
            "_model_module": "@jupyter-widgets/controls",
            "_model_module_version": "1.5.0",
            "_model_name": "DescriptionStyleModel",
            "_view_count": null,
            "_view_module": "@jupyter-widgets/base",
            "_view_module_version": "1.2.0",
            "_view_name": "StyleView",
            "description_width": ""
          }
        },
        "5471ce1e4344432cb26b70c88b984da8": {
          "model_module": "@jupyter-widgets/controls",
          "model_name": "HBoxModel",
          "model_module_version": "1.5.0",
          "state": {
            "_dom_classes": [],
            "_model_module": "@jupyter-widgets/controls",
            "_model_module_version": "1.5.0",
            "_model_name": "HBoxModel",
            "_view_count": null,
            "_view_module": "@jupyter-widgets/controls",
            "_view_module_version": "1.5.0",
            "_view_name": "HBoxView",
            "box_style": "",
            "children": [
              "IPY_MODEL_da720f008c3d4a18b74fe276e38542b3",
              "IPY_MODEL_4196129df69d4fa1bd7e1b7fdb6e9368",
              "IPY_MODEL_05811ca39cec402aa9befdf2c5eca8cc"
            ],
            "layout": "IPY_MODEL_62f54242392d4044a7e753b67293a23d"
          }
        },
        "da720f008c3d4a18b74fe276e38542b3": {
          "model_module": "@jupyter-widgets/controls",
          "model_name": "HTMLModel",
          "model_module_version": "1.5.0",
          "state": {
            "_dom_classes": [],
            "_model_module": "@jupyter-widgets/controls",
            "_model_module_version": "1.5.0",
            "_model_name": "HTMLModel",
            "_view_count": null,
            "_view_module": "@jupyter-widgets/controls",
            "_view_module_version": "1.5.0",
            "_view_name": "HTMLView",
            "description": "",
            "description_tooltip": null,
            "layout": "IPY_MODEL_e5d32b645ea441118d83d5056caf97fd",
            "placeholder": "​",
            "style": "IPY_MODEL_9f7a08fb4d2f4e97a9cb9624fd8a624c",
            "value": "Epoch 0:   0%"
          }
        },
        "4196129df69d4fa1bd7e1b7fdb6e9368": {
          "model_module": "@jupyter-widgets/controls",
          "model_name": "FloatProgressModel",
          "model_module_version": "1.5.0",
          "state": {
            "_dom_classes": [],
            "_model_module": "@jupyter-widgets/controls",
            "_model_module_version": "1.5.0",
            "_model_name": "FloatProgressModel",
            "_view_count": null,
            "_view_module": "@jupyter-widgets/controls",
            "_view_module_version": "1.5.0",
            "_view_name": "ProgressView",
            "bar_style": "",
            "description": "",
            "description_tooltip": null,
            "layout": "IPY_MODEL_1461f48fec9f4622984388cf47570d12",
            "max": 2496,
            "min": 0,
            "orientation": "horizontal",
            "style": "IPY_MODEL_047de400f01343f2ac3bf316dc2a8ebe",
            "value": 0
          }
        },
        "05811ca39cec402aa9befdf2c5eca8cc": {
          "model_module": "@jupyter-widgets/controls",
          "model_name": "HTMLModel",
          "model_module_version": "1.5.0",
          "state": {
            "_dom_classes": [],
            "_model_module": "@jupyter-widgets/controls",
            "_model_module_version": "1.5.0",
            "_model_name": "HTMLModel",
            "_view_count": null,
            "_view_module": "@jupyter-widgets/controls",
            "_view_module_version": "1.5.0",
            "_view_name": "HTMLView",
            "description": "",
            "description_tooltip": null,
            "layout": "IPY_MODEL_9c1bb5fd90dc47169d952b1c5480bd18",
            "placeholder": "​",
            "style": "IPY_MODEL_d9930c003ba340a29579b54cb2a33c83",
            "value": " 0/2496 [00:00&lt;?, ?it/s]"
          }
        },
        "62f54242392d4044a7e753b67293a23d": {
          "model_module": "@jupyter-widgets/base",
          "model_name": "LayoutModel",
          "model_module_version": "1.2.0",
          "state": {
            "_model_module": "@jupyter-widgets/base",
            "_model_module_version": "1.2.0",
            "_model_name": "LayoutModel",
            "_view_count": null,
            "_view_module": "@jupyter-widgets/base",
            "_view_module_version": "1.2.0",
            "_view_name": "LayoutView",
            "align_content": null,
            "align_items": null,
            "align_self": null,
            "border": null,
            "bottom": null,
            "display": "inline-flex",
            "flex": null,
            "flex_flow": "row wrap",
            "grid_area": null,
            "grid_auto_columns": null,
            "grid_auto_flow": null,
            "grid_auto_rows": null,
            "grid_column": null,
            "grid_gap": null,
            "grid_row": null,
            "grid_template_areas": null,
            "grid_template_columns": null,
            "grid_template_rows": null,
            "height": null,
            "justify_content": null,
            "justify_items": null,
            "left": null,
            "margin": null,
            "max_height": null,
            "max_width": null,
            "min_height": null,
            "min_width": null,
            "object_fit": null,
            "object_position": null,
            "order": null,
            "overflow": null,
            "overflow_x": null,
            "overflow_y": null,
            "padding": null,
            "right": null,
            "top": null,
            "visibility": null,
            "width": "100%"
          }
        },
        "e5d32b645ea441118d83d5056caf97fd": {
          "model_module": "@jupyter-widgets/base",
          "model_name": "LayoutModel",
          "model_module_version": "1.2.0",
          "state": {
            "_model_module": "@jupyter-widgets/base",
            "_model_module_version": "1.2.0",
            "_model_name": "LayoutModel",
            "_view_count": null,
            "_view_module": "@jupyter-widgets/base",
            "_view_module_version": "1.2.0",
            "_view_name": "LayoutView",
            "align_content": null,
            "align_items": null,
            "align_self": null,
            "border": null,
            "bottom": null,
            "display": null,
            "flex": null,
            "flex_flow": null,
            "grid_area": null,
            "grid_auto_columns": null,
            "grid_auto_flow": null,
            "grid_auto_rows": null,
            "grid_column": null,
            "grid_gap": null,
            "grid_row": null,
            "grid_template_areas": null,
            "grid_template_columns": null,
            "grid_template_rows": null,
            "height": null,
            "justify_content": null,
            "justify_items": null,
            "left": null,
            "margin": null,
            "max_height": null,
            "max_width": null,
            "min_height": null,
            "min_width": null,
            "object_fit": null,
            "object_position": null,
            "order": null,
            "overflow": null,
            "overflow_x": null,
            "overflow_y": null,
            "padding": null,
            "right": null,
            "top": null,
            "visibility": null,
            "width": null
          }
        },
        "9f7a08fb4d2f4e97a9cb9624fd8a624c": {
          "model_module": "@jupyter-widgets/controls",
          "model_name": "DescriptionStyleModel",
          "model_module_version": "1.5.0",
          "state": {
            "_model_module": "@jupyter-widgets/controls",
            "_model_module_version": "1.5.0",
            "_model_name": "DescriptionStyleModel",
            "_view_count": null,
            "_view_module": "@jupyter-widgets/base",
            "_view_module_version": "1.2.0",
            "_view_name": "StyleView",
            "description_width": ""
          }
        },
        "1461f48fec9f4622984388cf47570d12": {
          "model_module": "@jupyter-widgets/base",
          "model_name": "LayoutModel",
          "model_module_version": "1.2.0",
          "state": {
            "_model_module": "@jupyter-widgets/base",
            "_model_module_version": "1.2.0",
            "_model_name": "LayoutModel",
            "_view_count": null,
            "_view_module": "@jupyter-widgets/base",
            "_view_module_version": "1.2.0",
            "_view_name": "LayoutView",
            "align_content": null,
            "align_items": null,
            "align_self": null,
            "border": null,
            "bottom": null,
            "display": null,
            "flex": "2",
            "flex_flow": null,
            "grid_area": null,
            "grid_auto_columns": null,
            "grid_auto_flow": null,
            "grid_auto_rows": null,
            "grid_column": null,
            "grid_gap": null,
            "grid_row": null,
            "grid_template_areas": null,
            "grid_template_columns": null,
            "grid_template_rows": null,
            "height": null,
            "justify_content": null,
            "justify_items": null,
            "left": null,
            "margin": null,
            "max_height": null,
            "max_width": null,
            "min_height": null,
            "min_width": null,
            "object_fit": null,
            "object_position": null,
            "order": null,
            "overflow": null,
            "overflow_x": null,
            "overflow_y": null,
            "padding": null,
            "right": null,
            "top": null,
            "visibility": null,
            "width": null
          }
        },
        "047de400f01343f2ac3bf316dc2a8ebe": {
          "model_module": "@jupyter-widgets/controls",
          "model_name": "ProgressStyleModel",
          "model_module_version": "1.5.0",
          "state": {
            "_model_module": "@jupyter-widgets/controls",
            "_model_module_version": "1.5.0",
            "_model_name": "ProgressStyleModel",
            "_view_count": null,
            "_view_module": "@jupyter-widgets/base",
            "_view_module_version": "1.2.0",
            "_view_name": "StyleView",
            "bar_color": null,
            "description_width": ""
          }
        },
        "9c1bb5fd90dc47169d952b1c5480bd18": {
          "model_module": "@jupyter-widgets/base",
          "model_name": "LayoutModel",
          "model_module_version": "1.2.0",
          "state": {
            "_model_module": "@jupyter-widgets/base",
            "_model_module_version": "1.2.0",
            "_model_name": "LayoutModel",
            "_view_count": null,
            "_view_module": "@jupyter-widgets/base",
            "_view_module_version": "1.2.0",
            "_view_name": "LayoutView",
            "align_content": null,
            "align_items": null,
            "align_self": null,
            "border": null,
            "bottom": null,
            "display": null,
            "flex": null,
            "flex_flow": null,
            "grid_area": null,
            "grid_auto_columns": null,
            "grid_auto_flow": null,
            "grid_auto_rows": null,
            "grid_column": null,
            "grid_gap": null,
            "grid_row": null,
            "grid_template_areas": null,
            "grid_template_columns": null,
            "grid_template_rows": null,
            "height": null,
            "justify_content": null,
            "justify_items": null,
            "left": null,
            "margin": null,
            "max_height": null,
            "max_width": null,
            "min_height": null,
            "min_width": null,
            "object_fit": null,
            "object_position": null,
            "order": null,
            "overflow": null,
            "overflow_x": null,
            "overflow_y": null,
            "padding": null,
            "right": null,
            "top": null,
            "visibility": null,
            "width": null
          }
        },
        "d9930c003ba340a29579b54cb2a33c83": {
          "model_module": "@jupyter-widgets/controls",
          "model_name": "DescriptionStyleModel",
          "model_module_version": "1.5.0",
          "state": {
            "_model_module": "@jupyter-widgets/controls",
            "_model_module_version": "1.5.0",
            "_model_name": "DescriptionStyleModel",
            "_view_count": null,
            "_view_module": "@jupyter-widgets/base",
            "_view_module_version": "1.2.0",
            "_view_name": "StyleView",
            "description_width": ""
          }
        }
      }
    },
    "gpuClass": "standard"
  },
  "cells": [
    {
      "cell_type": "code",
      "source": [
        "%%shell\n",
        "pip install pycocotools\n",
        "pip3 install --upgrade albumentations\n",
        "pip3 install opencv-python-headless==4.1.2.30\n",
        "pip3 uninstall urllib3 --y\n",
        "pip3 install urllib3\n",
        "#pip install deeplake\n",
        "pip install pytorch_lightning\n",
        "pip install wandb\n",
        "pip install torchmetrics\n",
        "pip install torchinfo\n",
        "\n",
        "mkdir coco\n",
        "cd coco\n",
        "\n",
        "#wget http://images.cocodataset.org/zips/train2017.zip\n",
        "wget http://images.cocodataset.org/zips/val2017.zip\n",
        "#wget http://images.cocodataset.org/zips/test2017.zip\n",
        "#wget http://images.cocodataset.org/zips/unlabeled2017.zip\n",
        "\n",
        "#unzip train2017.zip\n",
        "unzip val2017.zip\n",
        "#unzip test2017.zip\n",
        "#unzip unlabeled2017.zip\n",
        "\n",
        "#rm train2017.zip\n",
        "rm val2017.zip\n",
        "#rm test2017.zip\n",
        "#rm unlabeled2017.zip \n",
        "\n",
        "wget http://images.cocodataset.org/annotations/annotations_trainval2017.zip\n",
        "wget http://images.cocodataset.org/annotations/stuff_annotations_trainval2017.zip\n",
        "#wget http://images.cocodataset.org/annotations/image_info_test2017.zip\n",
        "#wget http://images.cocodataset.org/annotations/image_info_unlabeled2017.zip\n",
        "\n",
        "unzip annotations_trainval2017.zip\n",
        "unzip stuff_annotations_trainval2017.zip\n",
        "#unzip image_info_test2017.zip\n",
        "#unzip image_info_unlabeled2017.zip\n",
        "\n",
        "rm annotations_trainval2017.zip\n",
        "rm stuff_annotations_trainval2017.zip\n",
        "#rm image_info_test2017.zip\n",
        "#rm image_info_unlabeled2017.zip"
      ],
      "metadata": {
        "id": "PkwNz3CL0B7_"
      },
      "execution_count": null,
      "outputs": []
    },
    {
      "cell_type": "code",
      "source": [
        "import matplotlib.pyplot as plt\n",
        "import matplotlib.patches as patches\n",
        "from coco import COCODataset\n",
        "import torch\n",
        "\n",
        "def collate_fn(batch):\n",
        "    return tuple(zip(*batch))\n",
        "\n",
        "trainset = COCODataset(data_dir='coco/', split='val2017', train=True, mode='train')\n",
        "train_dataloader = torch.utils.data.DataLoader(trainset, shuffle=True, batch_size=256, num_workers=0, collate_fn=collate_fn)\n",
        "\n",
        "valset = COCODataset(data_dir='coco/', split='val2017', train=True, mode='val')\n",
        "val_dataloader  = torch.utils.data.DataLoader(valset, shuffle=False, batch_size=2, num_workers=0, collate_fn=collate_fn)"
      ],
      "metadata": {
        "colab": {
          "base_uri": "https://localhost:8080/"
        },
        "id": "rHLh6f2iyurl",
        "outputId": "5c08bf4c-6fdd-4fcd-c24b-16ca49726d97"
      },
      "execution_count": null,
      "outputs": [
        {
          "output_type": "stream",
          "name": "stdout",
          "text": [
            "loading annotations into memory...\n",
            "Done (t=1.65s)\n",
            "creating index...\n",
            "index created!\n",
            "loading annotations into memory...\n",
            "Done (t=1.92s)\n",
            "creating index...\n",
            "index created!\n"
          ]
        }
      ]
    },
    {
      "cell_type": "code",
      "source": [
        "batch = next(iter(train_dataloader))"
      ],
      "metadata": {
        "id": "kbWiWks2AhxO"
      },
      "execution_count": null,
      "outputs": []
    },
    {
      "cell_type": "code",
      "source": [
        "targets = [{k:v for k, v in t.items()} for t in batch[1]]\n",
        "plt.imshow(targets[0]['masks'][0])\n",
        "plt.show()"
      ],
      "metadata": {
        "id": "rrDLEMqUN9Ob"
      },
      "execution_count": null,
      "outputs": []
    },
    {
      "cell_type": "markdown",
      "source": [
        "### Model"
      ],
      "metadata": {
        "id": "gYksatkWre2Z"
      }
    },
    {
      "cell_type": "code",
      "source": [
        "import models.vit_dino as vit_dino\n",
        "import torch\n",
        "\n",
        "model = vit_dino.__dict__['vit_tiny'](num_classes=80)\n",
        "torch.save(model.state_dict(), 'vit_tiny.pth')"
      ],
      "metadata": {
        "id": "KKP3Uw54swoV"
      },
      "execution_count": 1,
      "outputs": []
    },
    {
      "cell_type": "code",
      "source": [
        "## Attaching ViT and MaskRCNN\n",
        "from torchvision.models.detection import FasterRCNN, MaskRCNN\n",
        "from torchvision.models.detection.rpn import AnchorGenerator\n",
        "from torchvision.ops import MultiScaleRoIAlign\n",
        "import torch\n",
        "import torchvision\n",
        "import torch.nn as nn\n",
        "from torchinfo import summary\n",
        "\n",
        "\n",
        "class ModifyViT(nn.Module):\n",
        "    def __init__(self, num_classes=79, pretrained=False):\n",
        "        super(ModifyViT, self).__init__()\n",
        "        self.model = vit_dino.__dict__['vit_tiny'](num_classes=num_classes, use_clf_token=True,\n",
        "                                                     use_positional_embeddings=True)\n",
        "        self.patch_size = 16 // 4\n",
        "\n",
        "        if pretrained:\n",
        "            self.model.load_state_dict(torch.load('vit_tiny.pth'))\n",
        "\n",
        "    def forward(self, x):\n",
        "        out = self.model(x)\n",
        "        x = out['z_patches']\n",
        "        x = x.reshape(x.shape[0], -1, self.patch_size, self.patch_size)\n",
        "        return x"
      ],
      "metadata": {
        "id": "Bl0taJLErgKh"
      },
      "execution_count": 2,
      "outputs": []
    },
    {
      "cell_type": "code",
      "source": [
        "model = ModifyViT()\n",
        "model(torch.rand(1,3,224,224)).shape"
      ],
      "metadata": {
        "colab": {
          "base_uri": "https://localhost:8080/"
        },
        "id": "HFPbEdOd0wq9",
        "outputId": "f7384e6c-b29a-40b2-aad0-f9b27abe3f87"
      },
      "execution_count": 3,
      "outputs": [
        {
          "output_type": "execute_result",
          "data": {
            "text/plain": [
              "torch.Size([1, 2352, 4, 4])"
            ]
          },
          "metadata": {},
          "execution_count": 3
        }
      ]
    },
    {
      "cell_type": "code",
      "source": [
        "def create_model(num_classes = 79, pretrained = False, min_size = 200, max_size = 1300):\n",
        "    backbone = ModifyViT(num_classes = num_classes, pretrained=False)\n",
        "    backbone.out_channels = 2352\n",
        "\n",
        "    #backbone = torchvision.models.mobilenet_v2(weights=\"DEFAULT\").features\n",
        "    #backbone.out_channels = 1280\n",
        "\n",
        "    anchorgen = AnchorGenerator(sizes=((32, 64, 128, 256),),\n",
        "                                            aspect_ratios=((0.5, 1.0, 2.0),))\n",
        "    pooler = MultiScaleRoIAlign(featmap_names=['0'], output_size=4, sampling_ratio=2)\n",
        "    mask_roi_pooler = MultiScaleRoIAlign(featmap_names=['0'], output_size=4,sampling_ratio=2)\n",
        "\n",
        "    model = MaskRCNN(backbone=backbone, min_size=min_size, max_size=max_size,\n",
        "                                num_classes=num_classes,\n",
        "                                rpn_anchor_generator=anchorgen, box_roi_pool=pooler,\n",
        "                                mask_roi_pool=mask_roi_pooler)\n",
        "    return model\n",
        "\n",
        "model = create_model(num_classes = 90)"
      ],
      "metadata": {
        "id": "2FksknA-RZbW"
      },
      "execution_count": 4,
      "outputs": []
    },
    {
      "cell_type": "code",
      "source": [
        "model = create_model(num_classes = 90)\n",
        "summary(model)"
      ],
      "metadata": {
        "id": "02vuux_OFLNJ"
      },
      "execution_count": null,
      "outputs": []
    },
    {
      "cell_type": "code",
      "source": [
        "# Eval\n",
        "x = torch.rand(1, 3, 224, 224)\n",
        "model.train(False)\n",
        "x = model(x)\n",
        "print('Eval Results:', x)"
      ],
      "metadata": {
        "colab": {
          "base_uri": "https://localhost:8080/"
        },
        "id": "KFbUjUnAFb7l",
        "outputId": "279e5527-e422-4985-e8c3-26af6e889405"
      },
      "execution_count": null,
      "outputs": [
        {
          "output_type": "stream",
          "name": "stdout",
          "text": [
            "Eval Results: [{'boxes': tensor([], size=(0, 4), grad_fn=<StackBackward0>), 'labels': tensor([], dtype=torch.int64), 'scores': tensor([], grad_fn=<IndexBackward0>), 'masks': tensor([], size=(0, 1, 224, 224))}]\n"
          ]
        }
      ]
    },
    {
      "cell_type": "code",
      "source": [
        "# Train\n",
        "x = next(iter(val_dataloader))\n",
        "images  = list(image for image in x[0])\n",
        "targets = [{k:v for k, v in t.items()} for t in x[1]]\n",
        "\n",
        "model.train(True)\n",
        "x = model(images, targets)\n",
        "print('Train Results:',x)"
      ],
      "metadata": {
        "colab": {
          "base_uri": "https://localhost:8080/"
        },
        "id": "2IKSVLXaF712",
        "outputId": "9df4c2aa-cf00-4913-bdce-3d4856869553"
      },
      "execution_count": null,
      "outputs": [
        {
          "output_type": "stream",
          "name": "stdout",
          "text": [
            "Train Results: {'loss_classifier': tensor(4.4909, grad_fn=<NllLossBackward0>), 'loss_box_reg': tensor(0.0746, grad_fn=<DivBackward0>), 'loss_mask': tensor(0.8502, grad_fn=<BinaryCrossEntropyWithLogitsBackward0>), 'loss_objectness': tensor(0.6677, grad_fn=<BinaryCrossEntropyWithLogitsBackward0>), 'loss_rpn_box_reg': tensor(0.0728, grad_fn=<DivBackward0>)}\n"
          ]
        }
      ]
    },
    {
      "cell_type": "markdown",
      "source": [
        "### Training"
      ],
      "metadata": {
        "id": "uS_ETcbttURl"
      }
    },
    {
      "cell_type": "code",
      "source": [
        "import pytorch_lightning as pl\n",
        "from pytorch_lightning.callbacks import ModelCheckpoint\n",
        "from pytorch_lightning.loggers import WandbLogger\n",
        "from pytorch_lightning.callbacks import LearningRateMonitor\n",
        "\n",
        "from torchmetrics.detection.mean_ap import MeanAveragePrecision\n",
        "from torchmetrics import Accuracy\n",
        "from coco import COCODataset"
      ],
      "metadata": {
        "id": "-XOSeb97tkfA"
      },
      "execution_count": 5,
      "outputs": []
    },
    {
      "cell_type": "code",
      "source": [
        "class MaskRCNNDetector(pl.LightningModule):\n",
        "    def __init__(self, num_classes, lr=0.0001, weight_decay=0.0005):\n",
        "        super().__init__()\n",
        "        self.model = create_model(num_classes=num_classes, pretrained=True)\n",
        "        self.lr = lr\n",
        "        self.weight_decay = weight_decay\n",
        "        self.map_box = MeanAveragePrecision(box_format=\"xyxy\", iou_type=\"bbox\")\n",
        "        self.map_mask = MeanAveragePrecision(iou_type=\"segm\")\n",
        "\n",
        "    def forward(self, x):\n",
        "        return self.model.forward(x)\n",
        "\n",
        "    def training_step(self, batch, batch_idx):\n",
        "        model.train(True)\n",
        "\n",
        "        images  = list(image for image in batch[0])\n",
        "        targets = [{k:v for k, v in t.items()} for t in batch[1]]\n",
        "\n",
        "        loss_dict = self.model(images, targets)\n",
        "\n",
        "        loss_cls = loss_dict['loss_classifier']\n",
        "        loss_box_reg = loss_dict['loss_box_reg']\n",
        "        loss_mask = loss_dict['loss_mask']\n",
        "        losses = sum(loss for loss in loss_dict.values())\n",
        "\n",
        "        self.log('train_loss', losses, on_step=True, on_epoch=True, prog_bar=True, logger=True)\n",
        "        self.log('train_loss_cls', loss_cls, on_step=True, on_epoch=True)\n",
        "        self.log('train_loss_box_reg', loss_box_reg, on_step=True, on_epoch=True)\n",
        "        self.log('train_loss_mask', loss_mask, on_step=True, on_epoch=True)\n",
        "        return losses\n",
        "\n",
        "    def validation_step(self, batch, batch_idx):\n",
        "        model.train(False)\n",
        "        images  = list(image for image in batch[0])\n",
        "        targets = [{k:v for k, v in t.items()} for t in batch[1]]\n",
        "         \n",
        "        preds = self.model(images)\n",
        "\n",
        "        self.map_box.update(preds=preds, target=targets)\n",
        "        self.map_mask.update(preds=preds, target=targets)\n",
        "\n",
        "    def validation_epoch_end(self, validation_step_outputs):\n",
        "\n",
        "        mAPs_box = {\"val_box_\" + k: v for k, v in self.map_box.compute().items()}     \n",
        "        mAPs_mask = {\"val_mask_\" + k: v for k, v in self.map_mask.compute().items()}\n",
        "\n",
        "        self.print(mAPs_box)\n",
        "        self.print(mAPs_mask)\n",
        "\n",
        "        self.log_dict(mAPs_box, sync_dist=True)\n",
        "        self.log_dict(mAPs_mask, sync_dist=True)\n",
        "\n",
        "        self.map_box.reset()\n",
        "        self.map_mask.reset()\n",
        "\n",
        "    def configure_optimizers(self):\n",
        "        params = [p for p in self.model.parameters() if p.requires_grad]\n",
        "        optimizer = torch.optim.SGD(self.model.parameters(), lr=self.lr, momentum=0.9, weight_decay=self.weight_decay)\n",
        "        sch = torch.optim.lr_scheduler.StepLR(\n",
        "        optimizer, step_size  = 10 , gamma = 0.5)\n",
        "\n",
        "        return {\"optimizer\":optimizer, \"lr_scheduler\": sch}\n",
        "\n",
        "    def collate_fn(batch):\n",
        "        return tuple(zip(*batch))\n",
        "\n",
        "    def train_dataloader(self):\n",
        "        trainset = COCODataset(data_dir='coco/', split='val2017', train=True, mode='train')\n",
        "        train_dataloader = torch.utils.data.DataLoader(trainset, shuffle=True, batch_size=128, num_workers=2, collate_fn=collate_fn)\n",
        "        return train_dataloader\n",
        "\n",
        "    def val_dataloader(self):\n",
        "        valset = COCODataset(data_dir='coco/', split='val2017', train=True, mode='val')\n",
        "        val_dataloader  = torch.utils.data.DataLoader(valset, shuffle=False, batch_size=2, num_workers=2, collate_fn=collate_fn)\n",
        "        return val_dataloader"
      ],
      "metadata": {
        "id": "ZKifrQartWm9"
      },
      "execution_count": 6,
      "outputs": []
    },
    {
      "cell_type": "code",
      "source": [
        "NUM_CLASSES=90\n",
        "detector = MaskRCNNDetector(num_classes=NUM_CLASSES, lr=0.005, weight_decay=0.0002)\n",
        "\n",
        "wandb_logger = WandbLogger(project='Mask-RCNN', save_dir='Prova_MaskRCNN', log_model=\"all\")\n",
        "\n",
        "trainer = pl.Trainer(accelerator=\"auto\",\\\n",
        "                     max_epochs=10 , logger=wandb_logger)\n",
        "\n",
        "trainer.fit(detector, train_dataloader, val_dataloader)"
      ],
      "metadata": {
        "id": "6UcuvFZqtW90",
        "colab": {
          "base_uri": "https://localhost:8080/",
          "height": 364,
          "referenced_widgets": [
            "0160b9257aa84248af5cfd4181b797be",
            "8c703cf57625427ab19e2ac768f2a618",
            "8585a6f0f57b401688f810b13e2a433a",
            "b9394b5aabad4b15ae65a726698c8d9f",
            "feae2577fb4f4a0fb7830000bb56374d",
            "c4c4475357d94c22bc0200c0a6499992",
            "2e463b89f9aa4a1b9a87d76dd9125ef9",
            "d6467a1df1754232aab34c4df6c2444f",
            "838b86a8f07a4bbbbe6f4a38fa751af6",
            "9fa84c46696f41deadd5dad342914336",
            "2a65876766ee4c4cad58e4f0f7ebd939",
            "5471ce1e4344432cb26b70c88b984da8",
            "da720f008c3d4a18b74fe276e38542b3",
            "4196129df69d4fa1bd7e1b7fdb6e9368",
            "05811ca39cec402aa9befdf2c5eca8cc",
            "62f54242392d4044a7e753b67293a23d",
            "e5d32b645ea441118d83d5056caf97fd",
            "9f7a08fb4d2f4e97a9cb9624fd8a624c",
            "1461f48fec9f4622984388cf47570d12",
            "047de400f01343f2ac3bf316dc2a8ebe",
            "9c1bb5fd90dc47169d952b1c5480bd18",
            "d9930c003ba340a29579b54cb2a33c83"
          ]
        },
        "outputId": "03ecfa83-c682-496a-eda9-ce75281f36e5"
      },
      "execution_count": null,
      "outputs": [
        {
          "output_type": "stream",
          "name": "stderr",
          "text": [
            "INFO:pytorch_lightning.utilities.rank_zero:GPU available: False, used: False\n",
            "INFO:pytorch_lightning.utilities.rank_zero:TPU available: False, using: 0 TPU cores\n",
            "INFO:pytorch_lightning.utilities.rank_zero:IPU available: False, using: 0 IPUs\n",
            "INFO:pytorch_lightning.utilities.rank_zero:HPU available: False, using: 0 HPUs\n",
            "INFO:pytorch_lightning.callbacks.model_summary:\n",
            "  | Name     | Type                 | Params\n",
            "--------------------------------------------------\n",
            "0 | model    | MaskRCNN             | 44.5 M\n",
            "1 | map_box  | MeanAveragePrecision | 0     \n",
            "2 | map_mask | MeanAveragePrecision | 0     \n",
            "--------------------------------------------------\n",
            "44.5 M    Trainable params\n",
            "0         Non-trainable params\n",
            "44.5 M    Total params\n",
            "178.145   Total estimated model params size (MB)\n"
          ]
        },
        {
          "output_type": "display_data",
          "data": {
            "text/plain": [
              "Sanity Checking: 0it [00:00, ?it/s]"
            ],
            "application/vnd.jupyter.widget-view+json": {
              "version_major": 2,
              "version_minor": 0,
              "model_id": "0160b9257aa84248af5cfd4181b797be"
            }
          },
          "metadata": {}
        },
        {
          "output_type": "stream",
          "name": "stdout",
          "text": [
            "{'val_box_map': tensor(0.), 'val_box_map_50': tensor(0.), 'val_box_map_75': tensor(0.), 'val_box_map_small': tensor(0.), 'val_box_map_medium': tensor(0.), 'val_box_map_large': tensor(0.), 'val_box_mar_1': tensor(0.), 'val_box_mar_10': tensor(0.), 'val_box_mar_100': tensor(0.), 'val_box_mar_small': tensor(0.), 'val_box_mar_medium': tensor(0.), 'val_box_mar_large': tensor(0.), 'val_box_map_per_class': tensor(-1.), 'val_box_mar_100_per_class': tensor(-1.)}\n",
            "{'val_mask_map': tensor(0.), 'val_mask_map_50': tensor(0.), 'val_mask_map_75': tensor(0.), 'val_mask_map_small': tensor(0.), 'val_mask_map_medium': tensor(0.), 'val_mask_map_large': tensor(0.), 'val_mask_mar_1': tensor(0.), 'val_mask_mar_10': tensor(0.), 'val_mask_mar_100': tensor(0.), 'val_mask_mar_small': tensor(0.), 'val_mask_mar_medium': tensor(0.), 'val_mask_mar_large': tensor(0.), 'val_mask_map_per_class': tensor(-1.), 'val_mask_mar_100_per_class': tensor(-1.)}\n"
          ]
        },
        {
          "output_type": "display_data",
          "data": {
            "text/plain": [
              "Training: 0it [00:00, ?it/s]"
            ],
            "application/vnd.jupyter.widget-view+json": {
              "version_major": 2,
              "version_minor": 0,
              "model_id": "5471ce1e4344432cb26b70c88b984da8"
            }
          },
          "metadata": {}
        }
      ]
    }
  ]
}